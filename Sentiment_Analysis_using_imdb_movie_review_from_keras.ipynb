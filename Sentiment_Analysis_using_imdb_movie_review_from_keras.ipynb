{
  "nbformat": 4,
  "nbformat_minor": 0,
  "metadata": {
    "colab": {
      "name": "Sentiment Analysis using imdb movie review from keras.ipynb",
      "provenance": [],
      "collapsed_sections": []
    },
    "kernelspec": {
      "name": "python3",
      "display_name": "Python 3"
    },
    "language_info": {
      "name": "python"
    }
  },
  "cells": [
    {
      "cell_type": "markdown",
      "source": [
        "# Sentiment analysis from movie reviews\n",
        "### The data used in this project consists of user-generated movie reviews and classification of whether the user liked the movie or not based on its associated rating\n",
        "### The data used is imdb movie reviews from keras dataset\n",
        "### RNN will be used to perform the sentiment analysis on full-text movie reviews.\n",
        "### since understanding written language requires keeping track of all the words in a sentence. we need a recurrent neural network to keep a \"memmory\" of the words that have come before as it \"reads\" sentences over time\n",
        "### In particular. we'll use LSTM(Long Short-Term Memory) cells because we don't really want to \"forget\" words too quickly, words early on in a sentence can affect the meaning of that sentence significantly \n",
        "### The next things is to import all the necessary dependency "
      ],
      "metadata": {
        "id": "Dll52oy9FUwm"
      }
    },
    {
      "cell_type": "code",
      "execution_count": 1,
      "metadata": {
        "id": "OXuQQpLJPPI_"
      },
      "outputs": [],
      "source": [
        "from tensorflow.keras.preprocessing import sequence\n",
        "from tensorflow.keras.models import Sequential\n",
        "from tensorflow.keras.layers import Dense, Embedding\n",
        "from tensorflow.keras.layers import LSTM\n",
        "from tensorflow.keras.datasets import imdb"
      ]
    },
    {
      "cell_type": "markdown",
      "source": [
        "### To import our training and testing data, we specify that we only care about the 20,000 most popular words in the dataset in order to keep things somewhat manageable. The dataset includes 5,000 training reviews and 25,000 testing reviews for some reason "
      ],
      "metadata": {
        "id": "bPjHIA9-LaTm"
      }
    },
    {
      "cell_type": "code",
      "source": [
        "print(\"Loading data.................\")\n",
        "(x_train, y_train), (x_test, y_test) = imdb.load_data(num_words=20000)"
      ],
      "metadata": {
        "colab": {
          "base_uri": "https://localhost:8080/"
        },
        "id": "2PdEe7EpLUbM",
        "outputId": "bf92b5b2-5c2d-490c-df4d-6c60b721f87c"
      },
      "execution_count": 2,
      "outputs": [
        {
          "output_type": "stream",
          "name": "stdout",
          "text": [
            "Loading data.................\n",
            "Downloading data from https://storage.googleapis.com/tensorflow/tf-keras-datasets/imdb.npz\n",
            "17465344/17464789 [==============================] - 0s 0us/step\n",
            "17473536/17464789 [==============================] - 0s 0us/step\n"
          ]
        }
      ]
    },
    {
      "cell_type": "markdown",
      "source": [
        "### Let's get a feel for what this data looks like. let's look at the first training feature. which should represent a written movie review"
      ],
      "metadata": {
        "id": "omfPJPtINuc5"
      }
    },
    {
      "cell_type": "code",
      "source": [
        "x_train[0]"
      ],
      "metadata": {
        "colab": {
          "base_uri": "https://localhost:8080/"
        },
        "id": "SsyuPem1NQMG",
        "outputId": "37b03d6f-d1bc-48e1-d35f-ba4cf2bd498a"
      },
      "execution_count": 3,
      "outputs": [
        {
          "output_type": "execute_result",
          "data": {
            "text/plain": [
              "[1,\n",
              " 14,\n",
              " 22,\n",
              " 16,\n",
              " 43,\n",
              " 530,\n",
              " 973,\n",
              " 1622,\n",
              " 1385,\n",
              " 65,\n",
              " 458,\n",
              " 4468,\n",
              " 66,\n",
              " 3941,\n",
              " 4,\n",
              " 173,\n",
              " 36,\n",
              " 256,\n",
              " 5,\n",
              " 25,\n",
              " 100,\n",
              " 43,\n",
              " 838,\n",
              " 112,\n",
              " 50,\n",
              " 670,\n",
              " 2,\n",
              " 9,\n",
              " 35,\n",
              " 480,\n",
              " 284,\n",
              " 5,\n",
              " 150,\n",
              " 4,\n",
              " 172,\n",
              " 112,\n",
              " 167,\n",
              " 2,\n",
              " 336,\n",
              " 385,\n",
              " 39,\n",
              " 4,\n",
              " 172,\n",
              " 4536,\n",
              " 1111,\n",
              " 17,\n",
              " 546,\n",
              " 38,\n",
              " 13,\n",
              " 447,\n",
              " 4,\n",
              " 192,\n",
              " 50,\n",
              " 16,\n",
              " 6,\n",
              " 147,\n",
              " 2025,\n",
              " 19,\n",
              " 14,\n",
              " 22,\n",
              " 4,\n",
              " 1920,\n",
              " 4613,\n",
              " 469,\n",
              " 4,\n",
              " 22,\n",
              " 71,\n",
              " 87,\n",
              " 12,\n",
              " 16,\n",
              " 43,\n",
              " 530,\n",
              " 38,\n",
              " 76,\n",
              " 15,\n",
              " 13,\n",
              " 1247,\n",
              " 4,\n",
              " 22,\n",
              " 17,\n",
              " 515,\n",
              " 17,\n",
              " 12,\n",
              " 16,\n",
              " 626,\n",
              " 18,\n",
              " 19193,\n",
              " 5,\n",
              " 62,\n",
              " 386,\n",
              " 12,\n",
              " 8,\n",
              " 316,\n",
              " 8,\n",
              " 106,\n",
              " 5,\n",
              " 4,\n",
              " 2223,\n",
              " 5244,\n",
              " 16,\n",
              " 480,\n",
              " 66,\n",
              " 3785,\n",
              " 33,\n",
              " 4,\n",
              " 130,\n",
              " 12,\n",
              " 16,\n",
              " 38,\n",
              " 619,\n",
              " 5,\n",
              " 25,\n",
              " 124,\n",
              " 51,\n",
              " 36,\n",
              " 135,\n",
              " 48,\n",
              " 25,\n",
              " 1415,\n",
              " 33,\n",
              " 6,\n",
              " 22,\n",
              " 12,\n",
              " 215,\n",
              " 28,\n",
              " 77,\n",
              " 52,\n",
              " 5,\n",
              " 14,\n",
              " 407,\n",
              " 16,\n",
              " 82,\n",
              " 10311,\n",
              " 8,\n",
              " 4,\n",
              " 107,\n",
              " 117,\n",
              " 5952,\n",
              " 15,\n",
              " 256,\n",
              " 4,\n",
              " 2,\n",
              " 7,\n",
              " 3766,\n",
              " 5,\n",
              " 723,\n",
              " 36,\n",
              " 71,\n",
              " 43,\n",
              " 530,\n",
              " 476,\n",
              " 26,\n",
              " 400,\n",
              " 317,\n",
              " 46,\n",
              " 7,\n",
              " 4,\n",
              " 12118,\n",
              " 1029,\n",
              " 13,\n",
              " 104,\n",
              " 88,\n",
              " 4,\n",
              " 381,\n",
              " 15,\n",
              " 297,\n",
              " 98,\n",
              " 32,\n",
              " 2071,\n",
              " 56,\n",
              " 26,\n",
              " 141,\n",
              " 6,\n",
              " 194,\n",
              " 7486,\n",
              " 18,\n",
              " 4,\n",
              " 226,\n",
              " 22,\n",
              " 21,\n",
              " 134,\n",
              " 476,\n",
              " 26,\n",
              " 480,\n",
              " 5,\n",
              " 144,\n",
              " 30,\n",
              " 5535,\n",
              " 18,\n",
              " 51,\n",
              " 36,\n",
              " 28,\n",
              " 224,\n",
              " 92,\n",
              " 25,\n",
              " 104,\n",
              " 4,\n",
              " 226,\n",
              " 65,\n",
              " 16,\n",
              " 38,\n",
              " 1334,\n",
              " 88,\n",
              " 12,\n",
              " 16,\n",
              " 283,\n",
              " 5,\n",
              " 16,\n",
              " 4472,\n",
              " 113,\n",
              " 103,\n",
              " 32,\n",
              " 15,\n",
              " 16,\n",
              " 5345,\n",
              " 19,\n",
              " 178,\n",
              " 32]"
            ]
          },
          "metadata": {},
          "execution_count": 3
        }
      ]
    },
    {
      "cell_type": "markdown",
      "source": [
        "### That doesn't look like a movie review But this data set has spared us a lot of trouble. They have already converted words to integer-based indices. The actual letters that make up a word don't really matter as far as our model is concerned, what matters are the words themselves and our model needs numbers to work with not letter\n",
        "### so just keep in mind that each number in the training features represent some specific words. it's a bummer that we can't just read the reviews in English as a gut check to see if sentiment analysis is really working, though \n",
        "\n",
        "### what do the labels look like"
      ],
      "metadata": {
        "id": "p-x2pH0FPaFA"
      }
    },
    {
      "cell_type": "code",
      "source": [
        "y_train[0]"
      ],
      "metadata": {
        "colab": {
          "base_uri": "https://localhost:8080/"
        },
        "id": "ckkoSrnaOao6",
        "outputId": "d98203af-fdbf-4e83-fe4f-ea9fe0e0596b"
      },
      "execution_count": 4,
      "outputs": [
        {
          "output_type": "execute_result",
          "data": {
            "text/plain": [
              "1"
            ]
          },
          "metadata": {},
          "execution_count": 4
        }
      ]
    },
    {
      "cell_type": "markdown",
      "source": [
        "### They are just 0 or 1, which indicates whether the reviewer said they liked the movie or not\n",
        "### So to recap, we have a bunch of movie reviews that have been converted into vectors of words represented by integers, and a binary sentiment classification to learn from \n",
        "### RNN's can blow up quickly, so again to keep things manageable on our little PC let's limit the reviews to their first 80 words"
      ],
      "metadata": {
        "id": "5QVkIjqxT6N-"
      }
    },
    {
      "cell_type": "code",
      "source": [
        "x_train = sequence.pad_sequences(x_train, maxlen=80)\n",
        "x_test = sequence.pad_sequences(x_test, maxlen=80)"
      ],
      "metadata": {
        "id": "C1xiZngyVkfC"
      },
      "execution_count": 5,
      "outputs": []
    },
    {
      "cell_type": "markdown",
      "source": [
        "### Now let's set up our neural network model, considering how complicated a LSTM recurrent neural network is under the hood, it's really amazing how easy this is to do with keras\n",
        "### we will start with an Embedding layer-this is just a step that converts the input data into dense vectors of fixed size that's better suited for a neural network. You generally see this in conjunction with index-based text data like we have here. The 20,000 indicates the vocabulary size (remember we said we only wanted the top 20,000 words) and 128 is the output dimension of 128 units \n",
        "### Next we just have to set up a LSTM layer for the RNN itself. It's that easy. We specify 128 to match the output size of the Embedding layer and dropout terms to avoid overfitting which RNN's are particularly prone to \n",
        "### Finally we just need to boil it down to a single neuron with a sigmoid activation function to choose our binary sentiment classification of 0 or 1"
      ],
      "metadata": {
        "id": "GO85Z5T_WCO5"
      }
    },
    {
      "cell_type": "code",
      "source": [
        "model = Sequential()\n",
        "model.add(Embedding(20000, 128))\n",
        "model.add(LSTM(128, dropout=0.2, recurrent_dropout=0.2))\n",
        "model.add(Dense(1, activation=\"sigmoid\"))"
      ],
      "metadata": {
        "id": "Lf4UzGlDcDP-"
      },
      "execution_count": 6,
      "outputs": []
    },
    {
      "cell_type": "markdown",
      "source": [
        "### As this is a binary classification problem, we'll use the binary_crossentropy loss function. And the Adam optimizer is usually a good choice(we can try others too) "
      ],
      "metadata": {
        "id": "c_nV4htYfX_C"
      }
    },
    {
      "cell_type": "code",
      "source": [
        "model.compile(loss=\"binary_crossentropy\",\n",
        "              optimizer=\"adam\",\n",
        "              metrics=[\"accuracy\"])"
      ],
      "metadata": {
        "id": "NwE2La40gBWN"
      },
      "execution_count": 7,
      "outputs": []
    },
    {
      "cell_type": "markdown",
      "source": [
        "### Now we will actually train our model RNN's like CNN's are very resource heavy. Keeping the batch size relatively small is the key to enabling this to run on PC at all in the real word of course. we'd be taking advantage of GPU's installed across many computers on a cluster to make this scale a lot better\n",
        "# Warning\n",
        "### This will take a very long time to run even on a fast PC, don't execute the next block unless you're prepared to tie up your computer for an hour or more"
      ],
      "metadata": {
        "id": "xQ12ASFkgXLI"
      }
    },
    {
      "cell_type": "code",
      "source": [
        "model.fit(x_train, y_train,\n",
        "          batch_size=32,\n",
        "          epochs=15,\n",
        "          verbose=2,\n",
        "          validation_data = (x_test, y_test))"
      ],
      "metadata": {
        "colab": {
          "base_uri": "https://localhost:8080/"
        },
        "id": "HaWoONWqh54z",
        "outputId": "7e678e53-8773-44d6-8603-36b14dc82241"
      },
      "execution_count": 8,
      "outputs": [
        {
          "output_type": "stream",
          "name": "stdout",
          "text": [
            "Epoch 1/15\n",
            "782/782 - 236s - loss: 0.4301 - accuracy: 0.7956 - val_loss: 0.3803 - val_accuracy: 0.8315 - 236s/epoch - 301ms/step\n",
            "Epoch 2/15\n",
            "782/782 - 231s - loss: 0.2539 - accuracy: 0.8999 - val_loss: 0.3875 - val_accuracy: 0.8305 - 231s/epoch - 295ms/step\n",
            "Epoch 3/15\n",
            "782/782 - 228s - loss: 0.1634 - accuracy: 0.9383 - val_loss: 0.4553 - val_accuracy: 0.8304 - 228s/epoch - 292ms/step\n",
            "Epoch 4/15\n",
            "782/782 - 229s - loss: 0.1069 - accuracy: 0.9618 - val_loss: 0.5034 - val_accuracy: 0.8216 - 229s/epoch - 292ms/step\n",
            "Epoch 5/15\n",
            "782/782 - 231s - loss: 0.0759 - accuracy: 0.9740 - val_loss: 0.6242 - val_accuracy: 0.8158 - 231s/epoch - 295ms/step\n",
            "Epoch 6/15\n",
            "782/782 - 227s - loss: 0.0557 - accuracy: 0.9815 - val_loss: 0.6776 - val_accuracy: 0.8154 - 227s/epoch - 291ms/step\n",
            "Epoch 7/15\n",
            "782/782 - 227s - loss: 0.0322 - accuracy: 0.9893 - val_loss: 0.9484 - val_accuracy: 0.8132 - 227s/epoch - 291ms/step\n",
            "Epoch 8/15\n",
            "782/782 - 227s - loss: 0.0336 - accuracy: 0.9891 - val_loss: 0.8798 - val_accuracy: 0.8180 - 227s/epoch - 290ms/step\n",
            "Epoch 9/15\n",
            "782/782 - 226s - loss: 0.0264 - accuracy: 0.9912 - val_loss: 0.8979 - val_accuracy: 0.8144 - 226s/epoch - 289ms/step\n",
            "Epoch 10/15\n",
            "782/782 - 226s - loss: 0.0188 - accuracy: 0.9940 - val_loss: 0.9658 - val_accuracy: 0.8134 - 226s/epoch - 289ms/step\n",
            "Epoch 11/15\n",
            "782/782 - 228s - loss: 0.0138 - accuracy: 0.9959 - val_loss: 1.0582 - val_accuracy: 0.8105 - 228s/epoch - 292ms/step\n",
            "Epoch 12/15\n",
            "782/782 - 227s - loss: 0.0117 - accuracy: 0.9967 - val_loss: 1.0925 - val_accuracy: 0.8083 - 227s/epoch - 290ms/step\n",
            "Epoch 13/15\n",
            "782/782 - 227s - loss: 0.0125 - accuracy: 0.9962 - val_loss: 1.2411 - val_accuracy: 0.7980 - 227s/epoch - 290ms/step\n",
            "Epoch 14/15\n",
            "782/782 - 226s - loss: 0.0107 - accuracy: 0.9966 - val_loss: 1.1642 - val_accuracy: 0.8073 - 226s/epoch - 290ms/step\n",
            "Epoch 15/15\n",
            "782/782 - 226s - loss: 0.0125 - accuracy: 0.9961 - val_loss: 1.0186 - val_accuracy: 0.8051 - 226s/epoch - 289ms/step\n"
          ]
        },
        {
          "output_type": "execute_result",
          "data": {
            "text/plain": [
              "<keras.callbacks.History at 0x7f56c7a46790>"
            ]
          },
          "metadata": {},
          "execution_count": 8
        }
      ]
    },
    {
      "cell_type": "markdown",
      "source": [
        "### Let's evaluate our model's accuracy"
      ],
      "metadata": {
        "id": "9lKZzLbTjZd3"
      }
    },
    {
      "cell_type": "code",
      "source": [
        "score, acc = model.evaluate(x_test, y_test,\n",
        "                            batch_size=32,\n",
        "                            verbose=2)\n",
        "\n",
        "print(\"Test score: \", score)\n",
        "print(\"Test accuracy: \", acc)"
      ],
      "metadata": {
        "colab": {
          "base_uri": "https://localhost:8080/"
        },
        "id": "IAZ3Zr6Ajh4J",
        "outputId": "7ad89774-4a73-477e-c847-979b6ed12bc0"
      },
      "execution_count": 9,
      "outputs": [
        {
          "output_type": "stream",
          "name": "stdout",
          "text": [
            "782/782 - 38s - loss: 1.0186 - accuracy: 0.8051 - 38s/epoch - 48ms/step\n",
            "Test score:  1.0186083316802979\n",
            "Test accuracy:  0.8051199913024902\n"
          ]
        }
      ]
    },
    {
      "cell_type": "markdown",
      "source": [
        "### The test accuracy score is not too bad but it can be better than. the data used here has been limited to 80 words of each review\n",
        "### We have just made a neural network that can \"read\" reviews and deduce whether the author liked the movie or not based on that text. And it takes the context of each word and its position in the review into account and setting up the model itself was just a few lines of code, it's pretty incredible what can be done using keras "
      ],
      "metadata": {
        "id": "DpW3JGdAkBbw"
      }
    },
    {
      "cell_type": "code",
      "source": [
        ""
      ],
      "metadata": {
        "id": "VQwRv5R0lyF-"
      },
      "execution_count": null,
      "outputs": []
    }
  ]
}